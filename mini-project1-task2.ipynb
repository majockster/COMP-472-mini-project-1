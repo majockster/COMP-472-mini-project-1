{
 "cells": [
  {
   "cell_type": "code",
   "execution_count": 1,
   "id": "098bd822",
   "metadata": {},
   "outputs": [],
   "source": [
    "import matplotlib.pyplot as plt\n",
    "import sklearn\n",
    "import numpy as np\n",
    "import pandas as pd\n",
    "from sklearn.model_selection import train_test_split\n",
    "from sklearn.naive_bayes import GaussianNB\n",
    "from sklearn.tree import DecisionTreeClassifier\n",
    "from sklearn.model_selection import GridSearchCV\n",
    "from sklearn.linear_model import Perceptron\n",
    "from sklearn.neural_network import MLPClassifier\n",
    "\n"
   ]
  },
  {
   "cell_type": "code",
   "execution_count": 2,
   "id": "e3cc4569",
   "metadata": {},
   "outputs": [
    {
     "data": {
      "image/png": "[encoded data removed]",
      "text/plain": [
       "<Figure size 648x216 with 1 Axes>"
      ]
     },
     "metadata": {
      "needs_background": "light"
     },
     "output_type": "display_data"
    }
   ],
   "source": [
    "#2.2\n",
    "data = pd.read_csv(\"/Users/scavenger/Downloads/drug200.csv\")\n",
    "\n",
    "#2.3\n",
    "names = ['DrugA', 'DrugB', 'DrugC', 'DrugX', 'DrugY']\n",
    "values = [23, 16, 16, 54, 91]\n",
    "graph = plt.figure(figsize=(9,3))\n",
    "plt.bar(names,values)\n",
    "plt.suptitle('drug-distribution')\n",
    "plt.show()\n",
    "graph.savefig('drug-distribution.pdf', dpi=200)\n",
    "\n",
    "#2.4\n",
    "data_converted = pd.get_dummies(data)\n",
    "features = pd.Categorical(data_converted)\n",
    "\n",
    "\n",
    "\n",
    "#2.5\n",
    "X_count = pd.DataFrame.transpose(data_converted)\n",
    "X_train, X_test, y_train, y_test = train_test_split(X_count.head(200), features)\n",
    "\n",
    "#2.6\n",
    "clf_0 = GaussianNB().fit(X_train, y_train)\n",
    "clf_1 = DecisionTreeClassifier()\n",
    "param_Decision_tree_2 = {'criterion':['gini','entropy'],'max_depth':[10, 20], 'min_samples':[10, 20]}\n",
    "clf_2 = GridSearchCV(DecisionTreeClassifier, param_Decision_tree_2)\n",
    "clf_3 = Perceptron().fit(X_train, y_train)\n",
    "clf_4 = MLPClassifier(hidden_layer_sizes=(100, ), activation='logistic', solver='sgd')\n",
    "param_MLPClassifier_2 = {'activation':['identity', 'logistic', 'tanh', 'relu'],'hidden_layer_sizes':[(40, 2), (60, 2)], 'solver':['adam', 'sgd']}\n",
    "clf_5 = GridSearchCV(MLPClassifier, param_MLPClassifier_2)\n",
    "\n"
   ]
  },
  {
   "cell_type": "code",
   "execution_count": null,
   "id": "60efbc67",
   "metadata": {},
   "outputs": [],
   "source": []
  }
 ],
 "metadata": {
  "kernelspec": {
   "display_name": "Python 3 (ipykernel)",
   "language": "python",
   "name": "python3"
  },
  "language_info": {
   "codemirror_mode": {
    "name": "ipython",
    "version": 3
   },
   "file_extension": ".py",
   "mimetype": "text/x-python",
   "name": "python",
   "nbconvert_exporter": "python",
   "pygments_lexer": "ipython3",
   "version": "3.9.5"
  }
 },
 "nbformat": 4,
 "nbformat_minor": 5
}
