{
 "cells": [
  {
   "cell_type": "code",
   "execution_count": 1,
   "id": "bf83ab15",
   "metadata": {},
   "outputs": [
    {
     "ename": "ModuleNotFoundError",
     "evalue": "No module named 'pandas'",
     "output_type": "error",
     "traceback": [
      "\u001b[0;31m---------------------------------------------------------------------------\u001b[0m",
      "\u001b[0;31mModuleNotFoundError\u001b[0m                       Traceback (most recent call last)",
      "\u001b[0;32m/var/folders/bv/pmjc5d316ybbpvsft3d344xc0000gn/T/ipykernel_90203/2636354451.py\u001b[0m in \u001b[0;36m<module>\u001b[0;34m\u001b[0m\n\u001b[1;32m      2\u001b[0m \u001b[0;32mimport\u001b[0m \u001b[0msklearn\u001b[0m\u001b[0;34m\u001b[0m\u001b[0;34m\u001b[0m\u001b[0m\n\u001b[1;32m      3\u001b[0m \u001b[0;32mimport\u001b[0m \u001b[0mnumpy\u001b[0m \u001b[0;32mas\u001b[0m \u001b[0mnp\u001b[0m\u001b[0;34m\u001b[0m\u001b[0;34m\u001b[0m\u001b[0m\n\u001b[0;32m----> 4\u001b[0;31m \u001b[0;32mimport\u001b[0m \u001b[0mpandas\u001b[0m \u001b[0;32mas\u001b[0m \u001b[0mpd\u001b[0m\u001b[0;34m\u001b[0m\u001b[0;34m\u001b[0m\u001b[0m\n\u001b[0m\u001b[1;32m      5\u001b[0m \u001b[0;32mfrom\u001b[0m \u001b[0msklearn\u001b[0m\u001b[0;34m.\u001b[0m\u001b[0mmodel_selection\u001b[0m \u001b[0;32mimport\u001b[0m \u001b[0mtrain_test_split\u001b[0m\u001b[0;34m\u001b[0m\u001b[0;34m\u001b[0m\u001b[0m\n\u001b[1;32m      6\u001b[0m \u001b[0;32mfrom\u001b[0m \u001b[0msklearn\u001b[0m\u001b[0;34m.\u001b[0m\u001b[0mnaive_bayes\u001b[0m \u001b[0;32mimport\u001b[0m \u001b[0mGaussianNB\u001b[0m\u001b[0;34m\u001b[0m\u001b[0;34m\u001b[0m\u001b[0m\n",
      "\u001b[0;31mModuleNotFoundError\u001b[0m: No module named 'pandas'"
     ]
    }
   ],
   "source": [
    "import matplotlib.pyplot as plt\n",
    "import sklearn\n",
    "import numpy as np\n",
    "import pandas as pd\n",
    "from sklearn.model_selection import train_test_split\n",
    "from sklearn.naive_bayes import GaussianNB\n",
    "from sklearn.tree import DecisionTreeClassifier\n",
    "from sklearn.model_selection import GridSearchCV\n",
    "from sklearn.linear_model import Perceptron\n",
    "from sklearn.neural_network import MLPClassifier\n",
    "\n",
    "#2.2\n",
    "data = pd.read_csv(\"/Users/scavenger/Downloads/drug200.csv\")\n",
    "\n",
    "#2.3\n",
    "names = ['DrugA', 'DrugB', 'DrugC', 'DrugX', 'DrugY']\n",
    "values = [23, 16, 16, 54, 91]\n",
    "graph = plt.figure(figsize=(9,3))\n",
    "plt.bar(names,values)\n",
    "plt.suptitle('drug-distribution')\n",
    "plt.show()\n",
    "graph.savefig('drug-distribution.pdf', dpi=200)\n",
    "\n",
    "#2.4\n",
    "data_converted = pd.get_dummies(data)\n",
    "features = pd.Categorical(data_converted)\n",
    "\n",
    "\n",
    "\n",
    "#2.5\n",
    "X_count = pd.DataFrame.transpose(data_converted)\n",
    "X_train, X_test, y_train, y_test = train_test_split(X_count.head(200), features)\n",
    "\n",
    "#2.6\n",
    "clf_0 = GaussianNB().fit(X_train, y_train)\n",
    "clf_1 = DecisionTreeClassifier()\n",
    "param_Decision_tree_2 = {'criterion':['gini','entropy'],'max_depth':[10, 20], 'min_samples':[10, 20]}\n",
    "clf_2 = GridSearchCV(DecisionTreeClassifier, param_Decision_tree_2)\n",
    "clf_3 = Perceptron().fit(X_train, y_train)\n",
    "clf_4 = MLPClassifier(hidden_layer_sizes=(100, ), activation='logistic', solver='sgd')\n",
    "param_MLPClassifier_2 = {'activation':['identity', 'logistic', 'tanh', 'relu'],'hidden_layer_sizes':[(40, 2), (60, 2)], 'solver':['adam', 'sgd']}\n",
    "clf_5 = GridSearchCV(MLPClassifier, param_MLPClassifier_2)\n"
   ]
  },
  {
   "cell_type": "code",
   "execution_count": null,
   "id": "a0f0682c",
   "metadata": {},
   "outputs": [],
   "source": []
  }
 ],
 "metadata": {
  "kernelspec": {
   "display_name": "Python 3 (ipykernel)",
   "language": "python",
   "name": "python3"
  },
  "language_info": {
   "codemirror_mode": {
    "name": "ipython",
    "version": 3
   },
   "file_extension": ".py",
   "mimetype": "text/x-python",
   "name": "python",
   "nbconvert_exporter": "python",
   "pygments_lexer": "ipython3",
   "version": "3.9.5"
  }
 },
 "nbformat": 4,
 "nbformat_minor": 5
}
