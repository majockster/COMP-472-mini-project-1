{
 "cells": [
  {
   "cell_type": "code",
   "execution_count": null,
   "id": "4abfde36",
   "metadata": {},
   "outputs": [],
   "source": [
    "import matplotlib.pyplot as plt\n",
    "import sklearn\n",
    "import numpy as np\n",
    "from sklearn import datasets\n",
    "from sklearn.feature_extraction.text import CountVectorizer\n",
    "from sklearn.model_selection import train_test_split\n",
    "from sklearn.naive_bayes import MultinomialNB"
   ]
  },
  {
   "cell_type": "code",
   "execution_count": null,
   "id": "48b340fa",
   "metadata": {},
   "outputs": [],
   "source": [
    "names = ['business', 'entertainment', 'politics', 'sport', 'tech']\n",
    "values = [510, 386, 417, 511, 401]\n",
    "graph = plt.figure(figsize=(9,3))\n",
    "plt.bar(names,values)\n",
    "plt.suptitle('BBC-distribution')\n",
    "plt.show()\n",
    "graph.savefig('BBC-distribution.pdf', dpi=200)\n"
   ]
  },
  {
   "cell_type": "code",
   "execution_count": null,
   "id": "1bba7bb5",
   "metadata": {},
   "outputs": [],
   "source": [
    "data = sklearn.datasets.load_files(\n",
    "    './BBC',  \n",
    "#     description=None, \n",
    "     categories=None, \n",
    "#     load_content=True, \n",
    "    shuffle=False, \n",
    "    encoding='latin1', \n",
    "#     decode_error='strict', \n",
    "#     random_state=0\n",
    ")"
   ]
  },
  {
   "cell_type": "code",
   "execution_count": null,
   "id": "6e67abc3",
   "metadata": {},
   "outputs": [],
   "source": [
    "corpus = data.data\n",
    "vectorizer = CountVectorizer()\n",
    "termDoc = vectorizer.fit_transform(corpus)\n",
    "# print(vectorizer.get_feature_names())\n",
    "termDoc = termDoc.toarray()"
   ]
  },
  {
   "cell_type": "code",
   "execution_count": null,
   "id": "b197110c",
   "metadata": {},
   "outputs": [],
   "source": [
    "# trainingSet_feat, testSet_feat, trainingSet_lab, testSet_lab = train_test_split(corpus, \n",
    "#                                                                                 termDocMatrix,\n",
    "                                        \n",
    "#                                                                                 test_size=0.2,\n",
    "#                                                                                 shuffle=False,\n",
    "#                                                                                 random_state=None)\n",
    "X_train, X_test, y_train, y_test = train_test_split(corpus, \n",
    "                                                    termDoc,\n",
    "                                                    test_size=0.2,\n",
    "                                                    shuffle=False,\n",
    "                                                    random_state=None)\n",
    "# X_train = vectorizer.fit_transform(X_train).toarray()\n",
    "# X_test = vectorizer.fit_transform(X_test).toarray()"
   ]
  },
  {
   "cell_type": "code",
   "execution_count": null,
   "id": "21171194",
   "metadata": {},
   "outputs": [],
   "source": [
    "multiNB = MultinomialNB()\n",
    "# multiNB.fit(trainingSet_feat, trainingSet_lab)\n",
    "multiNB.fit(X_train, y_train)\n",
    "prediction = multiNB.predict(X_test)"
   ]
  },
  {
   "cell_type": "code",
   "execution_count": null,
   "id": "b70c7704",
   "metadata": {},
   "outputs": [],
   "source": []
  },
  {
   "cell_type": "code",
   "execution_count": null,
   "id": "19382414",
   "metadata": {},
   "outputs": [],
   "source": []
  }
 ],
 "metadata": {
  "kernelspec": {
   "display_name": "Python 3 (ipykernel)",
   "language": "python",
   "name": "python3"
  },
  "language_info": {
   "codemirror_mode": {
    "name": "ipython",
    "version": 3
   },
   "file_extension": ".py",
   "mimetype": "text/x-python",
   "name": "python",
   "nbconvert_exporter": "python",
   "pygments_lexer": "ipython3",
   "version": "3.9.5"
  }
 },
 "nbformat": 4,
 "nbformat_minor": 5
}
