{
 "cells": [
  {
   "cell_type": "code",
   "execution_count": 2,
   "id": "bf55996b",
   "metadata": {
    "scrolled": true
   },
   "outputs": [],
   "source": [
    "import pandas as pd\n",
    "import matplotlib.pyplot as plt\n",
    "import numpy as np\n",
    "import sklearn\n",
    "from sklearn import metrics\n",
    "from sklearn.metrics import classification_report\n",
    "from sklearn.model_selection import train_test_split\n",
    "from sklearn.naive_bayes import GaussianNB\n",
    "from sklearn.tree import DecisionTreeClassifier\n",
    "from sklearn.model_selection import GridSearchCV\n",
    "from sklearn.linear_model import Perceptron\n",
    "from sklearn.neural_network import MLPClassifier"
   ]
  },
  {
   "cell_type": "code",
   "execution_count": 3,
   "id": "ec385597",
   "metadata": {},
   "outputs": [],
   "source": [
    "corpus = pd.read_csv('./test6.csv')"
   ]
  },
  {
   "cell_type": "code",
   "execution_count": 16,
   "id": "ef70e402",
   "metadata": {},
   "outputs": [
    {
     "name": "stdout",
     "output_type": "stream",
     "text": [
      "[3, 4, 4, 20, 19]\n"
     ]
    },
    {
     "data": {
      "image/png": "[encoded data removed]",
      "text/plain": [
       "<Figure size 648x216 with 1 Axes>"
      ]
     },
     "metadata": {
      "needs_background": "light"
     },
     "output_type": "display_data"
    }
   ],
   "source": [
    "classes = ['drugA', 'drugB', 'drugC', 'drugX', 'drugY']\n",
    "instances = [0, 0, 0, 0, 0]\n",
    "for row in corpus.values:\n",
    "    for i in range(len(classes)):\n",
    "        if row[5] == classes[i]:\n",
    "            instances[i] +=1\n",
    "            \n",
    "print(instances)\n",
    "graph = plt.figure(figsize=(9,3))\n",
    "plt.bar(classes,instances)\n",
    "plt.suptitle('drug-distribution')\n",
    "plt.show()\n",
    "graph.savefig('drug-distribution.pdf', dpi=200)"
   ]
  },
  {
   "cell_type": "code",
   "execution_count": 17,
   "id": "065df88a",
   "metadata": {
    "scrolled": false
   },
   "outputs": [
    {
     "name": "stdout",
     "output_type": "stream",
     "text": [
      "    Age  BP  Cholesterol  Na_to_K   Drug  Sex_F  Sex_M\n",
      "0    48   2            0   10.446  drugA      0      1\n",
      "1    28   1            1    7.798  drugX      1      0\n",
      "2    47   0            1   11.767  drugC      1      0\n",
      "3    42   0            0   29.271  drugY      1      0\n",
      "4    60   1            0   10.091  drugX      0      1\n",
      "5    23   1            1   16.850  drugY      0      1\n",
      "6    22   1            1   11.953  drugX      0      1\n",
      "7    24   2            0   18.457  drugY      1      0\n",
      "8    64   0            0   25.741  drugY      1      0\n",
      "9    61   1            1    9.443  drugX      0      1\n",
      "10   58   2            1   19.416  drugY      1      0\n",
      "11   63   1            1   25.917  drugY      0      1\n",
      "12   65   2            0   31.876  drugY      1      0\n",
      "13   45   0            0   10.017  drugX      0      1\n",
      "14   32   0            1    9.712  drugC      1      0\n",
      "15   67   1            1   15.891  drugY      1      0\n",
      "16   46   2            1   34.686  drugY      1      0\n",
      "17   24   1            1   10.605  drugX      1      0\n",
      "18   31   2            1   30.366  drugY      0      1\n",
      "19   51   0            0   23.003  drugY      1      0\n",
      "20   35   1            0    7.845  drugX      0      1\n",
      "21   54   1            1   24.658  drugY      0      1\n",
      "22   32   2            0   25.974  drugY      1      0\n",
      "23   66   1            0    8.107  drugX      1      0\n",
      "24   50   1            0   12.295  drugX      1      0\n",
      "25   37   0            0   12.006  drugX      1      0\n",
      "26   40   1            1   10.103  drugX      1      0\n",
      "27   59   0            1   10.444  drugC      1      0\n",
      "28   34   0            0   12.923  drugX      1      0\n",
      "29   41   1            0   22.905  drugY      1      0\n",
      "30   50   1            1   12.703  drugX      1      0\n",
      "31   72   0            0   14.642  drugX      1      0\n",
      "32   24   1            1   25.786  drugY      0      1\n",
      "33   31   2            0   11.227  drugA      0      1\n",
      "34   57   2            0    9.945  drugB      1      0\n",
      "35   49   0            0   11.014  drugX      0      1\n",
      "36   49   2            0    8.700  drugA      0      1\n",
      "37   47   0            0   33.542  drugY      0      1\n",
      "38   74   0            1   20.942  drugY      1      0\n",
      "39   23   0            1    7.298  drugC      0      1\n",
      "40   68   2            1   11.009  drugB      0      1\n",
      "41   43   1            0   12.859  drugX      0      1\n",
      "42   52   1            1    9.894  drugX      0      1\n",
      "43   68   2            0   10.189  drugB      1      0\n",
      "44   60   2            1   13.934  drugB      0      1\n",
      "45   55   1            0    7.261  drugX      0      1\n",
      "46   15   2            0   16.725  drugY      1      0\n",
      "47   50   1            0   15.790  drugY      0      1\n",
      "48   23   1            0   14.020  drugX      0      1\n",
      "49   32   0            0   10.840  drugX      1      0\n"
     ]
    }
   ],
   "source": [
    "numerical_corpus = pd.get_dummies(corpus, columns=['Sex'])\n",
    "\n",
    "numerical_corpus.BP = pd.Categorical(numerical_corpus.BP, categories = ['LOW', 'NORMAL', 'HIGH'], ordered=True)\n",
    "numerical_corpus.BP = numerical_corpus.BP.cat.codes\n",
    "\n",
    "numerical_corpus.Cholesterol = pd.Categorical(numerical_corpus.Cholesterol,categories = ['NORMAL', 'HIGH'], ordered=True)\n",
    "numerical_corpus.Cholesterol = numerical_corpus.Cholesterol.cat.codes\n",
    "\n",
    "print(numerical_corpus)"
   ]
  },
  {
   "cell_type": "code",
   "execution_count": 18,
   "id": "4e4fc00c",
   "metadata": {},
   "outputs": [],
   "source": [
    "y = numerical_corpus.Drug\n",
    "x = numerical_corpus.drop('Drug',axis=1)"
   ]
  },
  {
   "cell_type": "code",
   "execution_count": 19,
   "id": "da51f7d2",
   "metadata": {},
   "outputs": [],
   "source": [
    "X_train, X_test, y_train, y_test = train_test_split(x, y, shuffle=False)"
   ]
  },
  {
   "cell_type": "code",
   "execution_count": 20,
   "id": "7c4f6ab9",
   "metadata": {},
   "outputs": [
    {
     "name": "stderr",
     "output_type": "stream",
     "text": [
      "C:\\Users\\etpha\\miniconda3\\lib\\site-packages\\sklearn\\model_selection\\_split.py:666: UserWarning: The least populated class in y has only 1 members, which is less than n_splits=5.\n",
      "  warnings.warn((\"The least populated class in y has only %d\"\n",
      "C:\\Users\\etpha\\miniconda3\\lib\\site-packages\\sklearn\\neural_network\\_multilayer_perceptron.py:614: ConvergenceWarning: Stochastic Optimizer: Maximum iterations (200) reached and the optimization hasn't converged yet.\n",
      "  warnings.warn(\n",
      "C:\\Users\\etpha\\miniconda3\\lib\\site-packages\\sklearn\\model_selection\\_split.py:666: UserWarning: The least populated class in y has only 1 members, which is less than n_splits=5.\n",
      "  warnings.warn((\"The least populated class in y has only %d\"\n",
      "C:\\Users\\etpha\\miniconda3\\lib\\site-packages\\sklearn\\neural_network\\_multilayer_perceptron.py:614: ConvergenceWarning: Stochastic Optimizer: Maximum iterations (200) reached and the optimization hasn't converged yet.\n",
      "  warnings.warn(\n",
      "C:\\Users\\etpha\\miniconda3\\lib\\site-packages\\sklearn\\neural_network\\_multilayer_perceptron.py:614: ConvergenceWarning: Stochastic Optimizer: Maximum iterations (200) reached and the optimization hasn't converged yet.\n",
      "  warnings.warn(\n",
      "C:\\Users\\etpha\\miniconda3\\lib\\site-packages\\sklearn\\neural_network\\_multilayer_perceptron.py:614: ConvergenceWarning: Stochastic Optimizer: Maximum iterations (200) reached and the optimization hasn't converged yet.\n",
      "  warnings.warn(\n",
      "C:\\Users\\etpha\\miniconda3\\lib\\site-packages\\sklearn\\neural_network\\_multilayer_perceptron.py:614: ConvergenceWarning: Stochastic Optimizer: Maximum iterations (200) reached and the optimization hasn't converged yet.\n",
      "  warnings.warn(\n",
      "C:\\Users\\etpha\\miniconda3\\lib\\site-packages\\sklearn\\neural_network\\_multilayer_perceptron.py:614: ConvergenceWarning: Stochastic Optimizer: Maximum iterations (200) reached and the optimization hasn't converged yet.\n",
      "  warnings.warn(\n",
      "C:\\Users\\etpha\\miniconda3\\lib\\site-packages\\sklearn\\neural_network\\_multilayer_perceptron.py:614: ConvergenceWarning: Stochastic Optimizer: Maximum iterations (200) reached and the optimization hasn't converged yet.\n",
      "  warnings.warn(\n",
      "C:\\Users\\etpha\\miniconda3\\lib\\site-packages\\sklearn\\neural_network\\_multilayer_perceptron.py:614: ConvergenceWarning: Stochastic Optimizer: Maximum iterations (200) reached and the optimization hasn't converged yet.\n",
      "  warnings.warn(\n",
      "C:\\Users\\etpha\\miniconda3\\lib\\site-packages\\sklearn\\neural_network\\_multilayer_perceptron.py:614: ConvergenceWarning: Stochastic Optimizer: Maximum iterations (200) reached and the optimization hasn't converged yet.\n",
      "  warnings.warn(\n",
      "C:\\Users\\etpha\\miniconda3\\lib\\site-packages\\sklearn\\neural_network\\_multilayer_perceptron.py:614: ConvergenceWarning: Stochastic Optimizer: Maximum iterations (200) reached and the optimization hasn't converged yet.\n",
      "  warnings.warn(\n",
      "C:\\Users\\etpha\\miniconda3\\lib\\site-packages\\sklearn\\neural_network\\_multilayer_perceptron.py:614: ConvergenceWarning: Stochastic Optimizer: Maximum iterations (200) reached and the optimization hasn't converged yet.\n",
      "  warnings.warn(\n",
      "C:\\Users\\etpha\\miniconda3\\lib\\site-packages\\sklearn\\neural_network\\_multilayer_perceptron.py:614: ConvergenceWarning: Stochastic Optimizer: Maximum iterations (200) reached and the optimization hasn't converged yet.\n",
      "  warnings.warn(\n"
     ]
    }
   ],
   "source": [
    "pred = []\n",
    "nb = GaussianNB()\n",
    "nb.fit(X_train,y_train)\n",
    "pred.append(nb.predict(X_test))\n",
    "\n",
    "bdt = DecisionTreeClassifier()\n",
    "bdt.fit(X_train,y_train)\n",
    "pred.append(bdt.predict(X_test)) \n",
    "\n",
    "params = {\n",
    "    'criterion': ['entropy'], #gini,entropy\n",
    "    'max_depth': [10], #10,20\n",
    "    'min_samples_split': [20] #10,20,30\n",
    "}\n",
    "\n",
    "tdt = GridSearchCV(bdt,params)\n",
    "tdt.fit(X_train,y_train)\n",
    "pred.append(tdt.predict(X_test))\n",
    "\n",
    "per = Perceptron()\n",
    "per.fit(X_train,y_train)\n",
    "pred.append(per.predict(X_test))\n",
    "\n",
    "bmlp = MLPClassifier(\n",
    "    hidden_layer_sizes=(100,),\n",
    "    activation='logistic', \n",
    "    solver='sgd'\n",
    ")\n",
    "bmlp.fit(X_train,y_train)\n",
    "pred.append(bmlp.predict(X_test))\n",
    "\n",
    "params2 = {\n",
    "    'activation': ['logistic'], #'logistic', 'tanh', 'relu', 'identity'\n",
    "    'hidden_layer_sizes':(40,80), \n",
    "    'solver': ['sgd'] #'adam', sgd'\n",
    "}\n",
    "tmlp = GridSearchCV(bmlp,params2)\n",
    "tmlp.fit(X_train,y_train)\n",
    "pred.append(tmlp.predict(X_test))"
   ]
  },
  {
   "cell_type": "code",
   "execution_count": 21,
   "id": "d203dd64",
   "metadata": {},
   "outputs": [
    {
     "ename": "ValueError",
     "evalue": "Number of classes, 4, does not match size of target_names, 5. Try specifying the labels parameter",
     "output_type": "error",
     "traceback": [
      "\u001b[1;31m---------------------------------------------------------------------------\u001b[0m",
      "\u001b[1;31mValueError\u001b[0m                                Traceback (most recent call last)",
      "\u001b[1;32m~\\AppData\\Local\\Temp/ipykernel_20900/917028517.py\u001b[0m in \u001b[0;36m<module>\u001b[1;34m\u001b[0m\n\u001b[0;32m     11\u001b[0m     \u001b[0mf\u001b[0m\u001b[1;33m.\u001b[0m\u001b[0mwrite\u001b[0m\u001b[1;33m(\u001b[0m\u001b[1;34m'\\nc) and d)\\n'\u001b[0m\u001b[1;33m)\u001b[0m\u001b[1;33m\u001b[0m\u001b[1;33m\u001b[0m\u001b[0m\n\u001b[0;32m     12\u001b[0m     f.write(\n\u001b[1;32m---> 13\u001b[1;33m         classification_report(\n\u001b[0m\u001b[0;32m     14\u001b[0m             \u001b[0my_test\u001b[0m\u001b[1;33m,\u001b[0m\u001b[1;33m\u001b[0m\u001b[1;33m\u001b[0m\u001b[0m\n\u001b[0;32m     15\u001b[0m             \u001b[0mpred\u001b[0m\u001b[1;33m[\u001b[0m\u001b[1;36m0\u001b[0m\u001b[1;33m]\u001b[0m\u001b[1;33m,\u001b[0m\u001b[1;33m\u001b[0m\u001b[1;33m\u001b[0m\u001b[0m\n",
      "\u001b[1;32m~\\miniconda3\\lib\\site-packages\\sklearn\\utils\\validation.py\u001b[0m in \u001b[0;36minner_f\u001b[1;34m(*args, **kwargs)\u001b[0m\n\u001b[0;32m     61\u001b[0m             \u001b[0mextra_args\u001b[0m \u001b[1;33m=\u001b[0m \u001b[0mlen\u001b[0m\u001b[1;33m(\u001b[0m\u001b[0margs\u001b[0m\u001b[1;33m)\u001b[0m \u001b[1;33m-\u001b[0m \u001b[0mlen\u001b[0m\u001b[1;33m(\u001b[0m\u001b[0mall_args\u001b[0m\u001b[1;33m)\u001b[0m\u001b[1;33m\u001b[0m\u001b[1;33m\u001b[0m\u001b[0m\n\u001b[0;32m     62\u001b[0m             \u001b[1;32mif\u001b[0m \u001b[0mextra_args\u001b[0m \u001b[1;33m<=\u001b[0m \u001b[1;36m0\u001b[0m\u001b[1;33m:\u001b[0m\u001b[1;33m\u001b[0m\u001b[1;33m\u001b[0m\u001b[0m\n\u001b[1;32m---> 63\u001b[1;33m                 \u001b[1;32mreturn\u001b[0m \u001b[0mf\u001b[0m\u001b[1;33m(\u001b[0m\u001b[1;33m*\u001b[0m\u001b[0margs\u001b[0m\u001b[1;33m,\u001b[0m \u001b[1;33m**\u001b[0m\u001b[0mkwargs\u001b[0m\u001b[1;33m)\u001b[0m\u001b[1;33m\u001b[0m\u001b[1;33m\u001b[0m\u001b[0m\n\u001b[0m\u001b[0;32m     64\u001b[0m \u001b[1;33m\u001b[0m\u001b[0m\n\u001b[0;32m     65\u001b[0m             \u001b[1;31m# extra_args > 0\u001b[0m\u001b[1;33m\u001b[0m\u001b[1;33m\u001b[0m\u001b[1;33m\u001b[0m\u001b[0m\n",
      "\u001b[1;32m~\\miniconda3\\lib\\site-packages\\sklearn\\metrics\\_classification.py\u001b[0m in \u001b[0;36mclassification_report\u001b[1;34m(y_true, y_pred, labels, target_names, sample_weight, digits, output_dict, zero_division)\u001b[0m\n\u001b[0;32m   1989\u001b[0m             )\n\u001b[0;32m   1990\u001b[0m         \u001b[1;32melse\u001b[0m\u001b[1;33m:\u001b[0m\u001b[1;33m\u001b[0m\u001b[1;33m\u001b[0m\u001b[0m\n\u001b[1;32m-> 1991\u001b[1;33m             raise ValueError(\n\u001b[0m\u001b[0;32m   1992\u001b[0m                 \u001b[1;34m\"Number of classes, {0}, does not match size of \"\u001b[0m\u001b[1;33m\u001b[0m\u001b[1;33m\u001b[0m\u001b[0m\n\u001b[0;32m   1993\u001b[0m                 \u001b[1;34m\"target_names, {1}. Try specifying the labels \"\u001b[0m\u001b[1;33m\u001b[0m\u001b[1;33m\u001b[0m\u001b[0m\n",
      "\u001b[1;31mValueError\u001b[0m: Number of classes, 4, does not match size of target_names, 5. Try specifying the labels parameter"
     ]
    }
   ],
   "source": [
    "with open('drugs-performance_temp.txt', 'a') as f:\n",
    "    f.write('a)\\n')\n",
    "    f.write('**********GNB, default, try 1**********\\n')\n",
    "    f.write('b)\\n')\n",
    "    f.write(\n",
    "        np.array2string(\n",
    "            metrics.confusion_matrix(y_test, pred[0]),\n",
    "            separator=','\n",
    "        )\n",
    "    )\n",
    "    f.write('\\nc) and d)\\n')\n",
    "    f.write(\n",
    "        classification_report(\n",
    "            y_test,\n",
    "            pred[0],\n",
    "            target_names=classes\n",
    "        )\n",
    "    )\n",
    "    "
   ]
  },
  {
   "cell_type": "code",
   "execution_count": 242,
   "id": "04d4e562",
   "metadata": {},
   "outputs": [
    {
     "name": "stdout",
     "output_type": "stream",
     "text": [
      "std accuracy GNB: \n",
      "0.05782732917920385\n",
      "std ma-avg f1 GNB: \n",
      "0.1258610344785073\n",
      "std w-avg f1 GNB: \n",
      "0.07851114570556209\n"
     ]
    }
   ],
   "source": [
    "print(\"std accuracy GNB: \")\n",
    "print(str(np.std([0.56,0.66,0.62,0.62,0.50,0.50,0.52,0.58,0.50,0.50])))\n",
    "print(\"std ma-avg f1 GNB: \")\n",
    "print(str(np.std([0.25,0.51,0.51,0.50,0.22,0.22,0.27,0.41,0.22,0.22])))\n",
    "print(\"std w-avg f1 GNB: \")\n",
    "print(str(np.std([0.47,0.63,0.58,0.58,0.41,0.42,0.45,0.48,0.41,0.41])))"
   ]
  },
  {
   "cell_type": "code",
   "execution_count": null,
   "id": "884c20c4",
   "metadata": {},
   "outputs": [],
   "source": []
  }
 ],
 "metadata": {
  "kernelspec": {
   "display_name": "Python 3 (ipykernel)",
   "language": "python",
   "name": "python3"
  },
  "language_info": {
   "codemirror_mode": {
    "name": "ipython",
    "version": 3
   },
   "file_extension": ".py",
   "mimetype": "text/x-python",
   "name": "python",
   "nbconvert_exporter": "python",
   "pygments_lexer": "ipython3",
   "version": "3.9.5"
  }
 },
 "nbformat": 4,
 "nbformat_minor": 5
}
