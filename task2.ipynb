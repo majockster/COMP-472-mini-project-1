{
 "cells": [
  {
   "cell_type": "code",
   "execution_count": 4,
   "id": "bf55996b",
   "metadata": {},
   "outputs": [],
   "source": [
    "import pandas as pd\n",
    "import matplotlib.pyplot as plt\n",
    "import numpy as np\n",
    "import sklearn\n",
    "from sklearn import metrics\n",
    "from sklearn.metrics import classification_report\n",
    "from sklearn.model_selection import train_test_split\n",
    "from sklearn.naive_bayes import GaussianNB\n",
    "from sklearn.tree import DecisionTreeClassifier\n",
    "from sklearn.model_selection import GridSearchCV\n",
    "from sklearn.linear_model import Perceptron\n",
    "from sklearn.neural_network import MLPClassifier"
   ]
  },
  {
   "cell_type": "code",
   "execution_count": 5,
   "id": "ec385597",
   "metadata": {},
   "outputs": [],
   "source": [
    "corpus = pd.read_csv('/Users/scavenger/Downloads/drug200.csv')"
   ]
  },
  {
   "cell_type": "code",
   "execution_count": 6,
   "id": "ef70e402",
   "metadata": {},
   "outputs": [
    {
     "name": "stdout",
     "output_type": "stream",
     "text": [
      "[23, 16, 16, 54, 91]\n"
     ]
    },
    {
     "data": {
      "image/png": "[encoded data removed]",
      "text/plain": [
       "<Figure size 648x216 with 1 Axes>"
      ]
     },
     "metadata": {
      "needs_background": "light"
     },
     "output_type": "display_data"
    }
   ],
   "source": [
    "classes = ['drugA', 'drugB', 'drugC', 'drugX', 'drugY']\n",
    "instances = [0, 0, 0, 0, 0]\n",
    "for row in corpus.values:\n",
    "    for i in range(len(classes)):\n",
    "        if row[5] == classes[i]:\n",
    "            instances[i] +=1\n",
    "            \n",
    "print(instances)\n",
    "graph = plt.figure(figsize=(9,3))\n",
    "plt.bar(classes,instances)\n",
    "plt.suptitle('drug-distribution')\n",
    "plt.show()\n",
    "graph.savefig('drug-distribution.pdf', dpi=200)"
   ]
  },
  {
   "cell_type": "code",
   "execution_count": 7,
   "id": "065df88a",
   "metadata": {
    "scrolled": false
   },
   "outputs": [
    {
     "name": "stdout",
     "output_type": "stream",
     "text": [
      "     Age  BP  Cholesterol  Na_to_K   Drug  Sex_F  Sex_M\n",
      "0     23   2            1   25.355  drugY      1      0\n",
      "1     47   0            1   13.093  drugC      0      1\n",
      "2     47   0            1   10.114  drugC      0      1\n",
      "3     28   1            1    7.798  drugX      1      0\n",
      "4     61   0            1   18.043  drugY      1      0\n",
      "..   ...  ..          ...      ...    ...    ...    ...\n",
      "195   56   0            1   11.567  drugC      1      0\n",
      "196   16   0            1   12.006  drugC      0      1\n",
      "197   52   1            1    9.894  drugX      0      1\n",
      "198   23   1            0   14.020  drugX      0      1\n",
      "199   40   0            0   11.349  drugX      1      0\n",
      "\n",
      "[200 rows x 7 columns]\n"
     ]
    }
   ],
   "source": [
    "numerical_corpus = pd.get_dummies(corpus, columns=['Sex'])\n",
    "\n",
    "numerical_corpus.BP = pd.Categorical(numerical_corpus.BP, categories = ['LOW', 'NORMAL', 'HIGH'], ordered=True)\n",
    "numerical_corpus.BP = numerical_corpus.BP.cat.codes\n",
    "\n",
    "numerical_corpus.Cholesterol = pd.Categorical(numerical_corpus.Cholesterol,categories = ['NORMAL', 'HIGH'], ordered=True)\n",
    "numerical_corpus.Cholesterol = numerical_corpus.Cholesterol.cat.codes\n",
    "\n",
    "print(numerical_corpus)"
   ]
  },
  {
   "cell_type": "code",
   "execution_count": 8,
   "id": "4e4fc00c",
   "metadata": {},
   "outputs": [],
   "source": [
    "y = numerical_corpus.Drug\n",
    "x = numerical_corpus.drop('Drug',axis=1)"
   ]
  },
  {
   "cell_type": "code",
   "execution_count": 9,
   "id": "da51f7d2",
   "metadata": {},
   "outputs": [],
   "source": [
    "X_train, X_test, y_train, y_test = train_test_split(x, y, shuffle=False)"
   ]
  },
  {
   "cell_type": "code",
   "execution_count": 110,
   "id": "7c4f6ab9",
   "metadata": {},
   "outputs": [
    {
     "name": "stderr",
     "output_type": "stream",
     "text": [
      "/Users/scavenger/opt/miniconda3/lib/python3.9/site-packages/sklearn/neural_network/_multilayer_perceptron.py:614: ConvergenceWarning: Stochastic Optimizer: Maximum iterations (200) reached and the optimization hasn't converged yet.\n",
      "  warnings.warn(\n",
      "/Users/scavenger/opt/miniconda3/lib/python3.9/site-packages/sklearn/neural_network/_multilayer_perceptron.py:614: ConvergenceWarning: Stochastic Optimizer: Maximum iterations (200) reached and the optimization hasn't converged yet.\n",
      "  warnings.warn(\n",
      "/Users/scavenger/opt/miniconda3/lib/python3.9/site-packages/sklearn/neural_network/_multilayer_perceptron.py:614: ConvergenceWarning: Stochastic Optimizer: Maximum iterations (200) reached and the optimization hasn't converged yet.\n",
      "  warnings.warn(\n",
      "/Users/scavenger/opt/miniconda3/lib/python3.9/site-packages/sklearn/neural_network/_multilayer_perceptron.py:614: ConvergenceWarning: Stochastic Optimizer: Maximum iterations (200) reached and the optimization hasn't converged yet.\n",
      "  warnings.warn(\n",
      "/Users/scavenger/opt/miniconda3/lib/python3.9/site-packages/sklearn/neural_network/_multilayer_perceptron.py:614: ConvergenceWarning: Stochastic Optimizer: Maximum iterations (200) reached and the optimization hasn't converged yet.\n",
      "  warnings.warn(\n",
      "/Users/scavenger/opt/miniconda3/lib/python3.9/site-packages/sklearn/neural_network/_multilayer_perceptron.py:614: ConvergenceWarning: Stochastic Optimizer: Maximum iterations (200) reached and the optimization hasn't converged yet.\n",
      "  warnings.warn(\n",
      "/Users/scavenger/opt/miniconda3/lib/python3.9/site-packages/sklearn/neural_network/_multilayer_perceptron.py:614: ConvergenceWarning: Stochastic Optimizer: Maximum iterations (200) reached and the optimization hasn't converged yet.\n",
      "  warnings.warn(\n",
      "/Users/scavenger/opt/miniconda3/lib/python3.9/site-packages/sklearn/neural_network/_multilayer_perceptron.py:614: ConvergenceWarning: Stochastic Optimizer: Maximum iterations (200) reached and the optimization hasn't converged yet.\n",
      "  warnings.warn(\n",
      "/Users/scavenger/opt/miniconda3/lib/python3.9/site-packages/sklearn/neural_network/_multilayer_perceptron.py:614: ConvergenceWarning: Stochastic Optimizer: Maximum iterations (200) reached and the optimization hasn't converged yet.\n",
      "  warnings.warn(\n",
      "/Users/scavenger/opt/miniconda3/lib/python3.9/site-packages/sklearn/neural_network/_multilayer_perceptron.py:614: ConvergenceWarning: Stochastic Optimizer: Maximum iterations (200) reached and the optimization hasn't converged yet.\n",
      "  warnings.warn(\n",
      "/Users/scavenger/opt/miniconda3/lib/python3.9/site-packages/sklearn/neural_network/_multilayer_perceptron.py:614: ConvergenceWarning: Stochastic Optimizer: Maximum iterations (200) reached and the optimization hasn't converged yet.\n",
      "  warnings.warn(\n",
      "/Users/scavenger/opt/miniconda3/lib/python3.9/site-packages/sklearn/neural_network/_multilayer_perceptron.py:614: ConvergenceWarning: Stochastic Optimizer: Maximum iterations (200) reached and the optimization hasn't converged yet.\n",
      "  warnings.warn(\n"
     ]
    }
   ],
   "source": [
    "pred = []\n",
    "nb = GaussianNB()\n",
    "nb.fit(X_train,y_train)\n",
    "pred.append(nb.predict(X_test))\n",
    "\n",
    "bdt = DecisionTreeClassifier()\n",
    "bdt.fit(X_train,y_train)\n",
    "pred.append(bdt.predict(X_test)) \n",
    "\n",
    "params = {\n",
    "    'criterion': ['entropy'], #gini,entropy\n",
    "    'max_depth': [10], #10,20\n",
    "    'min_samples_split': [20] #10,20,30\n",
    "}\n",
    "\n",
    "tdt = GridSearchCV(bdt,params)\n",
    "tdt.fit(X_train,y_train)\n",
    "pred.append(tdt.predict(X_test))\n",
    "\n",
    "per = Perceptron()\n",
    "per.fit(X_train,y_train)\n",
    "pred.append(per.predict(X_test))\n",
    "\n",
    "bmlp = MLPClassifier(\n",
    "    hidden_layer_sizes=(100,),\n",
    "    activation='logistic', \n",
    "    solver='sgd'\n",
    ")\n",
    "bmlp.fit(X_train,y_train)\n",
    "pred.append(bmlp.predict(X_test))\n",
    "\n",
    "params2 = {\n",
    "    'activation': ['logistic'], #'logistic', 'tanh', 'relu', 'identity'\n",
    "    'hidden_layer_sizes':(40,80), \n",
    "    'solver': ['sgd'] #'adam', sgd'\n",
    "}\n",
    "tmlp = GridSearchCV(bmlp,params2)\n",
    "tmlp.fit(X_train,y_train)\n",
    "pred.append(tmlp.predict(X_test))"
   ]
  },
  {
   "cell_type": "code",
   "execution_count": 111,
   "id": "d203dd64",
   "metadata": {},
   "outputs": [
    {
     "name": "stderr",
     "output_type": "stream",
     "text": [
      "/Users/scavenger/opt/miniconda3/lib/python3.9/site-packages/sklearn/metrics/_classification.py:1248: UndefinedMetricWarning: Precision and F-score are ill-defined and being set to 0.0 in labels with no predicted samples. Use `zero_division` parameter to control this behavior.\n",
      "  _warn_prf(average, modifier, msg_start, len(result))\n",
      "/Users/scavenger/opt/miniconda3/lib/python3.9/site-packages/sklearn/metrics/_classification.py:1248: UndefinedMetricWarning: Precision and F-score are ill-defined and being set to 0.0 in labels with no predicted samples. Use `zero_division` parameter to control this behavior.\n",
      "  _warn_prf(average, modifier, msg_start, len(result))\n",
      "/Users/scavenger/opt/miniconda3/lib/python3.9/site-packages/sklearn/metrics/_classification.py:1248: UndefinedMetricWarning: Precision and F-score are ill-defined and being set to 0.0 in labels with no predicted samples. Use `zero_division` parameter to control this behavior.\n",
      "  _warn_prf(average, modifier, msg_start, len(result))\n"
     ]
    }
   ],
   "source": [
    "with open('drugs-performance_temp.txt', 'a') as f:\n",
    "    f.write('a)\\n')\n",
    "    f.write('**********Top-MLP, logistic, sgd, 40, 60, try 10**********\\n')\n",
    "    f.write('b)\\n')\n",
    "    f.write(\n",
    "        np.array2string(\n",
    "            metrics.confusion_matrix(y_test, pred[5]),\n",
    "            separator=','\n",
    "        )\n",
    "    )\n",
    "    f.write('\\nc) and d)\\n')\n",
    "    f.write(\n",
    "        classification_report(\n",
    "            y_test,\n",
    "            pred[5],\n",
    "            target_names=classes\n",
    "        )\n",
    "    )\n",
    "    "
   ]
  },
  {
   "cell_type": "code",
   "execution_count": null,
   "id": "04d4e562",
   "metadata": {},
   "outputs": [],
   "source": []
  }
 ],
 "metadata": {
  "kernelspec": {
   "display_name": "Python 3 (ipykernel)",
   "language": "python",
   "name": "python3"
  },
  "language_info": {
   "codemirror_mode": {
    "name": "ipython",
    "version": 3
   },
   "file_extension": ".py",
   "mimetype": "text/x-python",
   "name": "python",
   "nbconvert_exporter": "python",
   "pygments_lexer": "ipython3",
   "version": "3.9.5"
  }
 },
 "nbformat": 4,
 "nbformat_minor": 5
}
